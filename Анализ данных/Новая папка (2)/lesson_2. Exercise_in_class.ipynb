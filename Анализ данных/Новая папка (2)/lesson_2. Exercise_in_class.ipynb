{
 "cells": [
  {
   "cell_type": "code",
   "execution_count": 8,
   "metadata": {},
   "outputs": [],
   "source": [
    "# ФИО\n",
    " \n",
    "# ГРУППА"
   ]
  },
  {
   "cell_type": "markdown",
   "metadata": {},
   "source": [
    "1. Импортировать необходимые библиотеки для работы с данными (pandas). --- **0.1**"
   ]
  },
  {
   "cell_type": "code",
   "execution_count": 9,
   "metadata": {},
   "outputs": [],
   "source": [
    "import pandas as pd"
   ]
  },
  {
   "cell_type": "markdown",
   "metadata": {},
   "source": [
    "2. Импортировать датасет из файла 'restaurants.csv' и присвоить его переменной (например, переменной df). --- **0.1**"
   ]
  },
  {
   "cell_type": "code",
   "execution_count": 10,
   "metadata": {},
   "outputs": [],
   "source": [
    "df = pd.read_csv('restaurants.csv', sep = ',')"
   ]
  },
  {
   "cell_type": "markdown",
   "metadata": {},
   "source": [
    "3. Вывести первые 10 строк датафрейма. Изучить структуру таблицы. --- **0.1** Затем вывести типы колонок датафрейма. --- **0.1**"
   ]
  },
  {
   "cell_type": "code",
   "execution_count": 11,
   "metadata": {},
   "outputs": [
    {
     "data": {
      "text/html": [
       "<div>\n",
       "<style scoped>\n",
       "    .dataframe tbody tr th:only-of-type {\n",
       "        vertical-align: middle;\n",
       "    }\n",
       "\n",
       "    .dataframe tbody tr th {\n",
       "        vertical-align: top;\n",
       "    }\n",
       "\n",
       "    .dataframe thead th {\n",
       "        text-align: right;\n",
       "    }\n",
       "</style>\n",
       "<table border=\"1\" class=\"dataframe\">\n",
       "  <thead>\n",
       "    <tr style=\"text-align: right;\">\n",
       "      <th></th>\n",
       "      <th>vendor_id</th>\n",
       "      <th>chain_id</th>\n",
       "      <th>city_name</th>\n",
       "      <th>specialisation</th>\n",
       "      <th>successful_orders</th>\n",
       "      <th>fail_orders</th>\n",
       "      <th>reorders</th>\n",
       "    </tr>\n",
       "  </thead>\n",
       "  <tbody>\n",
       "    <tr>\n",
       "      <th>0</th>\n",
       "      <td>28957</td>\n",
       "      <td>20633</td>\n",
       "      <td>Архангельск</td>\n",
       "      <td>Супы</td>\n",
       "      <td>0.0</td>\n",
       "      <td>2.0</td>\n",
       "      <td>0.0</td>\n",
       "    </tr>\n",
       "    <tr>\n",
       "      <th>1</th>\n",
       "      <td>37381</td>\n",
       "      <td>27399</td>\n",
       "      <td>Архангельск</td>\n",
       "      <td>Пироги</td>\n",
       "      <td>0.0</td>\n",
       "      <td>0.0</td>\n",
       "      <td>0.0</td>\n",
       "    </tr>\n",
       "    <tr>\n",
       "      <th>2</th>\n",
       "      <td>28703</td>\n",
       "      <td>20431</td>\n",
       "      <td>Архангельск</td>\n",
       "      <td>Суши</td>\n",
       "      <td>111.0</td>\n",
       "      <td>3.0</td>\n",
       "      <td>0.0</td>\n",
       "    </tr>\n",
       "    <tr>\n",
       "      <th>3</th>\n",
       "      <td>37382</td>\n",
       "      <td>27399</td>\n",
       "      <td>Архангельск</td>\n",
       "      <td>Пироги</td>\n",
       "      <td>1.0</td>\n",
       "      <td>0.0</td>\n",
       "      <td>0.0</td>\n",
       "    </tr>\n",
       "    <tr>\n",
       "      <th>4</th>\n",
       "      <td>36877</td>\n",
       "      <td>27151</td>\n",
       "      <td>Архангельск</td>\n",
       "      <td>Бургеры</td>\n",
       "      <td>22.0</td>\n",
       "      <td>2.0</td>\n",
       "      <td>0.0</td>\n",
       "    </tr>\n",
       "    <tr>\n",
       "      <th>5</th>\n",
       "      <td>37650</td>\n",
       "      <td>27579</td>\n",
       "      <td>Архангельск</td>\n",
       "      <td>Суши</td>\n",
       "      <td>3.0</td>\n",
       "      <td>0.0</td>\n",
       "      <td>0.0</td>\n",
       "    </tr>\n",
       "    <tr>\n",
       "      <th>6</th>\n",
       "      <td>37127</td>\n",
       "      <td>27250</td>\n",
       "      <td>Астрахань</td>\n",
       "      <td>Суши</td>\n",
       "      <td>55.0</td>\n",
       "      <td>5.0</td>\n",
       "      <td>6.0</td>\n",
       "    </tr>\n",
       "    <tr>\n",
       "      <th>7</th>\n",
       "      <td>28476</td>\n",
       "      <td>20266</td>\n",
       "      <td>Астрахань</td>\n",
       "      <td>Суши</td>\n",
       "      <td>342.0</td>\n",
       "      <td>13.0</td>\n",
       "      <td>14.0</td>\n",
       "    </tr>\n",
       "    <tr>\n",
       "      <th>8</th>\n",
       "      <td>28478</td>\n",
       "      <td>20266</td>\n",
       "      <td>Астрахань</td>\n",
       "      <td>Суши</td>\n",
       "      <td>194.0</td>\n",
       "      <td>1.0</td>\n",
       "      <td>7.0</td>\n",
       "    </tr>\n",
       "    <tr>\n",
       "      <th>9</th>\n",
       "      <td>34127</td>\n",
       "      <td>25077</td>\n",
       "      <td>Астрахань</td>\n",
       "      <td>Пицца</td>\n",
       "      <td>136.0</td>\n",
       "      <td>4.0</td>\n",
       "      <td>1.0</td>\n",
       "    </tr>\n",
       "  </tbody>\n",
       "</table>\n",
       "</div>"
      ],
      "text/plain": [
       "   vendor_id  chain_id    city_name specialisation  successful_orders  \\\n",
       "0      28957     20633  Архангельск           Супы                0.0   \n",
       "1      37381     27399  Архангельск         Пироги                0.0   \n",
       "2      28703     20431  Архангельск           Суши              111.0   \n",
       "3      37382     27399  Архангельск         Пироги                1.0   \n",
       "4      36877     27151  Архангельск        Бургеры               22.0   \n",
       "5      37650     27579  Архангельск           Суши                3.0   \n",
       "6      37127     27250    Астрахань           Суши               55.0   \n",
       "7      28476     20266    Астрахань           Суши              342.0   \n",
       "8      28478     20266    Астрахань           Суши              194.0   \n",
       "9      34127     25077    Астрахань          Пицца              136.0   \n",
       "\n",
       "   fail_orders  reorders  \n",
       "0          2.0       0.0  \n",
       "1          0.0       0.0  \n",
       "2          3.0       0.0  \n",
       "3          0.0       0.0  \n",
       "4          2.0       0.0  \n",
       "5          0.0       0.0  \n",
       "6          5.0       6.0  \n",
       "7         13.0      14.0  \n",
       "8          1.0       7.0  \n",
       "9          4.0       1.0  "
      ]
     },
     "execution_count": 11,
     "metadata": {},
     "output_type": "execute_result"
    }
   ],
   "source": [
    "df.head(10)"
   ]
  },
  {
   "cell_type": "markdown",
   "metadata": {},
   "source": [
    "vendor_id - уникальный идентификатор ресторана\n",
    "\n",
    "chain_id - уникальный идентификатор сети, в которую входит ресторан\n",
    "\n",
    "successful_orders - кол-во успешных заказов\n",
    "\n",
    "fail_orders - кол-во неуспешных заказов\n",
    "\n",
    "reorders - перезаказы"
   ]
  },
  {
   "cell_type": "code",
   "execution_count": 12,
   "metadata": {},
   "outputs": [
    {
     "data": {
      "text/plain": [
       "Index(['vendor_id', 'chain_id', 'city_name', 'specialisation',\n",
       "       'successful_orders', 'fail_orders', 'reorders'],\n",
       "      dtype='object')"
      ]
     },
     "execution_count": 12,
     "metadata": {},
     "output_type": "execute_result"
    }
   ],
   "source": [
    "df.columns"
   ]
  },
  {
   "cell_type": "markdown",
   "metadata": {},
   "source": [
    "4. Сколько наблюдений в датафрейме (воспользоваться методом shape)? --- **0.1**"
   ]
  },
  {
   "cell_type": "code",
   "execution_count": 13,
   "metadata": {},
   "outputs": [
    {
     "data": {
      "text/plain": [
       "(784, 7)"
      ]
     },
     "execution_count": 13,
     "metadata": {},
     "output_type": "execute_result"
    }
   ],
   "source": [
    "df.shape"
   ]
  },
  {
   "cell_type": "markdown",
   "metadata": {},
   "source": [
    "5. Сколько колонок в датафрейме?  --- **0.1** Вывести их имена. --- **0.1** Удалить колонку с названием \"chain_id\" (соледующие задания должны быть выполнены без этой колонки). --- **0.2**"
   ]
  },
  {
   "cell_type": "code",
   "execution_count": 14,
   "metadata": {},
   "outputs": [
    {
     "data": {
      "text/plain": [
       "7"
      ]
     },
     "execution_count": 14,
     "metadata": {},
     "output_type": "execute_result"
    }
   ],
   "source": [
    "len(df.columns)"
   ]
  },
  {
   "cell_type": "code",
   "execution_count": 16,
   "metadata": {},
   "outputs": [
    {
     "name": "stdout",
     "output_type": "stream",
     "text": [
      "<class 'pandas.core.frame.DataFrame'>\n",
      "RangeIndex: 784 entries, 0 to 783\n",
      "Data columns (total 7 columns):\n",
      "vendor_id            784 non-null int64\n",
      "chain_id             784 non-null int64\n",
      "city_name            784 non-null object\n",
      "specialisation       784 non-null object\n",
      "successful_orders    784 non-null float64\n",
      "fail_orders          784 non-null float64\n",
      "reorders             784 non-null float64\n",
      "dtypes: float64(3), int64(2), object(2)\n",
      "memory usage: 43.0+ KB\n"
     ]
    }
   ],
   "source": [
    "df.info()"
   ]
  },
  {
   "cell_type": "code",
   "execution_count": 17,
   "metadata": {},
   "outputs": [],
   "source": [
    "del df['chain_id']"
   ]
  },
  {
   "cell_type": "markdown",
   "metadata": {},
   "source": [
    "6. Сколько уникальных городов в датафрейме? --- **0.4**"
   ]
  },
  {
   "cell_type": "code",
   "execution_count": null,
   "metadata": {
    "collapsed": true
   },
   "outputs": [],
   "source": []
  },
  {
   "cell_type": "markdown",
   "metadata": {},
   "source": [
    "7. Кол-во ресторанов каждой специализации? --- **0.3**"
   ]
  },
  {
   "cell_type": "code",
   "execution_count": null,
   "metadata": {
    "collapsed": true
   },
   "outputs": [],
   "source": []
  },
  {
   "cell_type": "markdown",
   "metadata": {},
   "source": [
    "8. Получить среднее и стандартное отклонение по всему датафрейму только по колонкам successful_orders и fail_orders. --- **0.7**"
   ]
  },
  {
   "cell_type": "code",
   "execution_count": null,
   "metadata": {
    "collapsed": true
   },
   "outputs": [],
   "source": []
  },
  {
   "cell_type": "markdown",
   "metadata": {},
   "source": [
    "9. Вывести 10 городов с самым маленьким количеством ресторанов, а также кол-во ресторанов в них. --- **0.5**"
   ]
  },
  {
   "cell_type": "code",
   "execution_count": null,
   "metadata": {
    "collapsed": true
   },
   "outputs": [],
   "source": []
  },
  {
   "cell_type": "markdown",
   "metadata": {},
   "source": [
    "10. Вывести весь датафрейм только по тем ресторанам, у которых количество неуспешных заказов (fail_orders) было больше 20. --- **0.4**"
   ]
  },
  {
   "cell_type": "code",
   "execution_count": null,
   "metadata": {
    "collapsed": true
   },
   "outputs": [],
   "source": []
  },
  {
   "cell_type": "markdown",
   "metadata": {},
   "source": [
    "11. Вывести весь датафрейм только по тем ресторанам, у которых количество неуспешных заказов (fail_orders) было больше 20 и успешных заказов (successful_orders) меньше 500, рестораны только из города Тула. --- **0.5**"
   ]
  },
  {
   "cell_type": "code",
   "execution_count": null,
   "metadata": {
    "collapsed": true
   },
   "outputs": [],
   "source": []
  },
  {
   "cell_type": "markdown",
   "metadata": {},
   "source": [
    "12. Среднее кол-во успешных заказов по специализациям. --- **0.6**"
   ]
  },
  {
   "cell_type": "code",
   "execution_count": null,
   "metadata": {
    "collapsed": true
   },
   "outputs": [],
   "source": []
  },
  {
   "cell_type": "markdown",
   "metadata": {},
   "source": [
    "13. Рестораны какой специализации имеют самую высокую долю неуспешных заказов? Также посчитать эту долю (все заказы по конкретному ресторану складываются из успешных, неуспешных заказов и перезаказов). --- **1.0**"
   ]
  },
  {
   "cell_type": "code",
   "execution_count": null,
   "metadata": {
    "collapsed": true
   },
   "outputs": [],
   "source": []
  },
  {
   "cell_type": "markdown",
   "metadata": {},
   "source": [
    "14. Для каждой специализации рассчитать минимальное и максимальное кол-во успешных заказов. --- **0.7**"
   ]
  },
  {
   "cell_type": "code",
   "execution_count": null,
   "metadata": {
    "collapsed": true
   },
   "outputs": [],
   "source": []
  },
  {
   "cell_type": "markdown",
   "metadata": {},
   "source": [
    "15. Рассчитать среднее кол-во успешных заказов по каждой специализации в городах Белгород и Уфа. --- **0.9**"
   ]
  },
  {
   "cell_type": "code",
   "execution_count": null,
   "metadata": {
    "collapsed": true
   },
   "outputs": [],
   "source": []
  },
  {
   "cell_type": "markdown",
   "metadata": {},
   "source": [
    "16. Импортировать таблицу \"restaurant_scores.csv\". В исходную таблицу добавить новый столбец \"model_score\" из таблицы \"restaurant_scores\", соединив таблицы по restaurant_scores.vendor_id = model_score.id. Вывести первые 5 строк получившейся таблицы. --- **0.8**"
   ]
  },
  {
   "cell_type": "code",
   "execution_count": null,
   "metadata": {
    "collapsed": true
   },
   "outputs": [],
   "source": []
  },
  {
   "cell_type": "markdown",
   "metadata": {},
   "source": [
    "18. Итоговую таблицу сохранить на жестком диске в формате 'csv'. --- **0.3**"
   ]
  },
  {
   "cell_type": "code",
   "execution_count": null,
   "metadata": {
    "collapsed": true
   },
   "outputs": [],
   "source": []
  },
  {
   "cell_type": "markdown",
   "metadata": {},
   "source": [
    "### Каждые 1.5 поинта - 1 балл."
   ]
  }
 ],
 "metadata": {
  "kernelspec": {
   "display_name": "Python 3",
   "language": "python",
   "name": "python3"
  },
  "language_info": {
   "codemirror_mode": {
    "name": "ipython",
    "version": 3
   },
   "file_extension": ".py",
   "mimetype": "text/x-python",
   "name": "python",
   "nbconvert_exporter": "python",
   "pygments_lexer": "ipython3",
   "version": "3.7.1"
  }
 },
 "nbformat": 4,
 "nbformat_minor": 2
}
